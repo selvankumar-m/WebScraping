{
  "nbformat": 4,
  "nbformat_minor": 0,
  "metadata": {
    "colab": {
      "name": "WebScraping-YouTube-Data.ipynb",
      "provenance": [],
      "collapsed_sections": [],
      "authorship_tag": "ABX9TyMWh97P0z3RAuJHNI1UJx7e",
      "include_colab_link": true
    },
    "kernelspec": {
      "name": "python3",
      "display_name": "Python 3"
    },
    "language_info": {
      "name": "python"
    }
  },
  "cells": [
    {
      "cell_type": "markdown",
      "metadata": {
        "id": "view-in-github",
        "colab_type": "text"
      },
      "source": [
        "<a href=\"https://colab.research.google.com/github/selvankumar-m/WebScraping/blob/main/WebScraping_YouTube_Data.ipynb\" target=\"_parent\"><img src=\"https://colab.research.google.com/assets/colab-badge.svg\" alt=\"Open In Colab\"/></a>"
      ]
    },
    {
      "cell_type": "markdown",
      "metadata": {
        "id": "nGrfia9sn4XF"
      },
      "source": [
        "# Working on Web-Scraped data of DataScience YouTube channels\n",
        "\n",
        "---\n",
        "* The data is scraped from web by using the web scraping software [Octoparse](https://www.octoparse.com/). \n",
        "* This data is collected on focus of youtube channels realted to Data Science.\n",
        "\n"
      ]
    },
    {
      "cell_type": "code",
      "metadata": {
        "id": "jJef1-D7v69Q"
      },
      "source": [
        "import pandas as pd"
      ],
      "execution_count": 1,
      "outputs": []
    },
    {
      "cell_type": "code",
      "metadata": {
        "id": "NurB5X55wGiC"
      },
      "source": [
        "data=pd.read_excel('/content/YouTube-DataScience.xlsx')"
      ],
      "execution_count": 2,
      "outputs": []
    },
    {
      "cell_type": "code",
      "metadata": {
        "colab": {
          "base_uri": "https://localhost:8080/",
          "height": 434
        },
        "id": "UN0bwzAewOG9",
        "outputId": "dc59a1ac-0e08-4d97-9c03-37a7a7ca5652"
      },
      "source": [
        "data.head(3)"
      ],
      "execution_count": 3,
      "outputs": [
        {
          "output_type": "execute_result",
          "data": {
            "text/html": [
              "<div>\n",
              "<style scoped>\n",
              "    .dataframe tbody tr th:only-of-type {\n",
              "        vertical-align: middle;\n",
              "    }\n",
              "\n",
              "    .dataframe tbody tr th {\n",
              "        vertical-align: top;\n",
              "    }\n",
              "\n",
              "    .dataframe thead th {\n",
              "        text-align: right;\n",
              "    }\n",
              "</style>\n",
              "<table border=\"1\" class=\"dataframe\">\n",
              "  <thead>\n",
              "    <tr style=\"text-align: right;\">\n",
              "      <th></th>\n",
              "      <th>Title</th>\n",
              "      <th>Title_URL</th>\n",
              "      <th>Image</th>\n",
              "      <th>Range</th>\n",
              "      <th>Range1</th>\n",
              "      <th>Range2</th>\n",
              "      <th>Range3</th>\n",
              "      <th>Range4</th>\n",
              "      <th>Score_URL</th>\n",
              "      <th>Range5</th>\n",
              "    </tr>\n",
              "  </thead>\n",
              "  <tbody>\n",
              "    <tr>\n",
              "      <th>0</th>\n",
              "      <td>Data Science with Partha</td>\n",
              "      <td>https://www.youtube.com/channel/UC9TEQJ6XTQguu...</td>\n",
              "      <td>NaN</td>\n",
              "      <td>48 subscribers</td>\n",
              "      <td>15 videos</td>\n",
              "      <td>Hi Everyone, This channel helps beginners unde...</td>\n",
              "      <td>Data Science</td>\n",
              "      <td>. I will try ...</td>\n",
              "      <td>https://accounts.google.com/ServiceLogin?servi...</td>\n",
              "      <td>SUBSCRIBE</td>\n",
              "    </tr>\n",
              "    <tr>\n",
              "      <th>1</th>\n",
              "      <td>Division of Computing, Data Science, and Society</td>\n",
              "      <td>https://www.youtube.com/channel/UCYosMoD6e3_RL...</td>\n",
              "      <td>NaN</td>\n",
              "      <td>NaN</td>\n",
              "      <td>61 videos</td>\n",
              "      <td>NaN</td>\n",
              "      <td>NaN</td>\n",
              "      <td>NaN</td>\n",
              "      <td>https://accounts.google.com/ServiceLogin?servi...</td>\n",
              "      <td>SUBSCRIBE</td>\n",
              "    </tr>\n",
              "    <tr>\n",
              "      <th>2</th>\n",
              "      <td>ProjectPro - Data Science Projects</td>\n",
              "      <td>https://www.youtube.com/channel/UCfuyYAtTG15_d...</td>\n",
              "      <td>NaN</td>\n",
              "      <td>400 subscribers</td>\n",
              "      <td>164 videos</td>\n",
              "      <td>ProjectPro provides solved, ready-to-use, end-...</td>\n",
              "      <td>Data Science</td>\n",
              "      <td>and Machine Learning Projects.</td>\n",
              "      <td>https://accounts.google.com/ServiceLogin?servi...</td>\n",
              "      <td>SUBSCRIBE</td>\n",
              "    </tr>\n",
              "  </tbody>\n",
              "</table>\n",
              "</div>"
            ],
            "text/plain": [
              "                                              Title  ...     Range5\n",
              "0                          Data Science with Partha  ...  SUBSCRIBE\n",
              "1  Division of Computing, Data Science, and Society  ...  SUBSCRIBE\n",
              "2                ProjectPro - Data Science Projects  ...  SUBSCRIBE\n",
              "\n",
              "[3 rows x 10 columns]"
            ]
          },
          "metadata": {
            "tags": []
          },
          "execution_count": 3
        }
      ]
    },
    {
      "cell_type": "code",
      "metadata": {
        "colab": {
          "base_uri": "https://localhost:8080/"
        },
        "id": "uvJuqPCqwQRK",
        "outputId": "c3a50663-8116-4772-b583-39a7cf280f57"
      },
      "source": [
        "data.columns"
      ],
      "execution_count": 4,
      "outputs": [
        {
          "output_type": "execute_result",
          "data": {
            "text/plain": [
              "Index(['Title', 'Title_URL', 'Image', 'Range', 'Range1', 'Range2', 'Range3',\n",
              "       'Range4', 'Score_URL', 'Range5'],\n",
              "      dtype='object')"
            ]
          },
          "metadata": {
            "tags": []
          },
          "execution_count": 4
        }
      ]
    },
    {
      "cell_type": "code",
      "metadata": {
        "id": "en3WRwcGwX6h"
      },
      "source": [
        "# Drop the useless columns\n",
        "data.drop(columns=['Title_URL', 'Image','Range2', 'Range3',\n",
        "       'Range4', 'Score_URL', 'Range5'],axis=1,inplace=True)"
      ],
      "execution_count": 5,
      "outputs": []
    },
    {
      "cell_type": "code",
      "metadata": {
        "colab": {
          "base_uri": "https://localhost:8080/",
          "height": 142
        },
        "id": "n9vo8wj3wsDm",
        "outputId": "e7e9b6c3-85d7-4624-da63-48f844ab6fa6"
      },
      "source": [
        "data.head(3)"
      ],
      "execution_count": 6,
      "outputs": [
        {
          "output_type": "execute_result",
          "data": {
            "text/html": [
              "<div>\n",
              "<style scoped>\n",
              "    .dataframe tbody tr th:only-of-type {\n",
              "        vertical-align: middle;\n",
              "    }\n",
              "\n",
              "    .dataframe tbody tr th {\n",
              "        vertical-align: top;\n",
              "    }\n",
              "\n",
              "    .dataframe thead th {\n",
              "        text-align: right;\n",
              "    }\n",
              "</style>\n",
              "<table border=\"1\" class=\"dataframe\">\n",
              "  <thead>\n",
              "    <tr style=\"text-align: right;\">\n",
              "      <th></th>\n",
              "      <th>Title</th>\n",
              "      <th>Range</th>\n",
              "      <th>Range1</th>\n",
              "    </tr>\n",
              "  </thead>\n",
              "  <tbody>\n",
              "    <tr>\n",
              "      <th>0</th>\n",
              "      <td>Data Science with Partha</td>\n",
              "      <td>48 subscribers</td>\n",
              "      <td>15 videos</td>\n",
              "    </tr>\n",
              "    <tr>\n",
              "      <th>1</th>\n",
              "      <td>Division of Computing, Data Science, and Society</td>\n",
              "      <td>NaN</td>\n",
              "      <td>61 videos</td>\n",
              "    </tr>\n",
              "    <tr>\n",
              "      <th>2</th>\n",
              "      <td>ProjectPro - Data Science Projects</td>\n",
              "      <td>400 subscribers</td>\n",
              "      <td>164 videos</td>\n",
              "    </tr>\n",
              "  </tbody>\n",
              "</table>\n",
              "</div>"
            ],
            "text/plain": [
              "                                              Title  ...      Range1\n",
              "0                          Data Science with Partha  ...   15 videos\n",
              "1  Division of Computing, Data Science, and Society  ...   61 videos\n",
              "2                ProjectPro - Data Science Projects  ...  164 videos\n",
              "\n",
              "[3 rows x 3 columns]"
            ]
          },
          "metadata": {
            "tags": []
          },
          "execution_count": 6
        }
      ]
    },
    {
      "cell_type": "code",
      "metadata": {
        "id": "TWcAXSG6wtNs"
      },
      "source": [
        "#Name the columns with valied names\n",
        "data.rename(columns={'Title':'Channel_Name','Range':'Subscribers_Count','Range1':'Video_Count'},inplace=True)"
      ],
      "execution_count": 7,
      "outputs": []
    },
    {
      "cell_type": "code",
      "metadata": {
        "colab": {
          "base_uri": "https://localhost:8080/",
          "height": 142
        },
        "id": "CEjVJ4E0xCHe",
        "outputId": "1a6464a4-4094-4fd0-9612-d1d902fde4f6"
      },
      "source": [
        "data.sample(3)"
      ],
      "execution_count": 8,
      "outputs": [
        {
          "output_type": "execute_result",
          "data": {
            "text/html": [
              "<div>\n",
              "<style scoped>\n",
              "    .dataframe tbody tr th:only-of-type {\n",
              "        vertical-align: middle;\n",
              "    }\n",
              "\n",
              "    .dataframe tbody tr th {\n",
              "        vertical-align: top;\n",
              "    }\n",
              "\n",
              "    .dataframe thead th {\n",
              "        text-align: right;\n",
              "    }\n",
              "</style>\n",
              "<table border=\"1\" class=\"dataframe\">\n",
              "  <thead>\n",
              "    <tr style=\"text-align: right;\">\n",
              "      <th></th>\n",
              "      <th>Channel_Name</th>\n",
              "      <th>Subscribers_Count</th>\n",
              "      <th>Video_Count</th>\n",
              "    </tr>\n",
              "  </thead>\n",
              "  <tbody>\n",
              "    <tr>\n",
              "      <th>144</th>\n",
              "      <td>Data Science Lovers</td>\n",
              "      <td>5.21K subscribers</td>\n",
              "      <td>56 videos</td>\n",
              "    </tr>\n",
              "    <tr>\n",
              "      <th>64</th>\n",
              "      <td>learn data science with krishna</td>\n",
              "      <td>37 subscribers</td>\n",
              "      <td>4 videos</td>\n",
              "    </tr>\n",
              "    <tr>\n",
              "      <th>120</th>\n",
              "      <td>Data Science Guy</td>\n",
              "      <td>14.6K subscribers</td>\n",
              "      <td>30 videos</td>\n",
              "    </tr>\n",
              "  </tbody>\n",
              "</table>\n",
              "</div>"
            ],
            "text/plain": [
              "                        Channel_Name  Subscribers_Count Video_Count\n",
              "144              Data Science Lovers  5.21K subscribers   56 videos\n",
              "64   learn data science with krishna     37 subscribers    4 videos\n",
              "120                 Data Science Guy  14.6K subscribers   30 videos"
            ]
          },
          "metadata": {
            "tags": []
          },
          "execution_count": 8
        }
      ]
    },
    {
      "cell_type": "code",
      "metadata": {
        "colab": {
          "base_uri": "https://localhost:8080/"
        },
        "id": "CzvwJ6M8xIH6",
        "outputId": "48df279f-3fb8-4520-adc7-3686739022e8"
      },
      "source": [
        "#finding null values\n",
        "data.isnull().sum()"
      ],
      "execution_count": 9,
      "outputs": [
        {
          "output_type": "execute_result",
          "data": {
            "text/plain": [
              "Channel_Name          0\n",
              "Subscribers_Count    27\n",
              "Video_Count           2\n",
              "dtype: int64"
            ]
          },
          "metadata": {
            "tags": []
          },
          "execution_count": 9
        }
      ]
    },
    {
      "cell_type": "code",
      "metadata": {
        "id": "1ddC1IDCxRQT"
      },
      "source": [
        "#droping null values\n",
        "data.dropna(inplace=True)"
      ],
      "execution_count": 10,
      "outputs": []
    },
    {
      "cell_type": "code",
      "metadata": {
        "id": "fcAYLSFoxW8p"
      },
      "source": [
        "#Removing the words from Subscribers_Count & Video_Count\n",
        "data['Subscribers_Count']=data['Subscribers_Count'].str.strip('subscribers')\n",
        "data['Video_Count']=data['Video_Count'].str.strip('videos')"
      ],
      "execution_count": 11,
      "outputs": []
    },
    {
      "cell_type": "code",
      "metadata": {
        "colab": {
          "base_uri": "https://localhost:8080/",
          "height": 204
        },
        "id": "_2piwu-ex8tH",
        "outputId": "69810625-e183-4985-8714-c73c60e1e1e8"
      },
      "source": [
        "data.head()"
      ],
      "execution_count": 12,
      "outputs": [
        {
          "output_type": "execute_result",
          "data": {
            "text/html": [
              "<div>\n",
              "<style scoped>\n",
              "    .dataframe tbody tr th:only-of-type {\n",
              "        vertical-align: middle;\n",
              "    }\n",
              "\n",
              "    .dataframe tbody tr th {\n",
              "        vertical-align: top;\n",
              "    }\n",
              "\n",
              "    .dataframe thead th {\n",
              "        text-align: right;\n",
              "    }\n",
              "</style>\n",
              "<table border=\"1\" class=\"dataframe\">\n",
              "  <thead>\n",
              "    <tr style=\"text-align: right;\">\n",
              "      <th></th>\n",
              "      <th>Channel_Name</th>\n",
              "      <th>Subscribers_Count</th>\n",
              "      <th>Video_Count</th>\n",
              "    </tr>\n",
              "  </thead>\n",
              "  <tbody>\n",
              "    <tr>\n",
              "      <th>0</th>\n",
              "      <td>Data Science with Partha</td>\n",
              "      <td>48</td>\n",
              "      <td>15</td>\n",
              "    </tr>\n",
              "    <tr>\n",
              "      <th>2</th>\n",
              "      <td>ProjectPro - Data Science Projects</td>\n",
              "      <td>400</td>\n",
              "      <td>164</td>\n",
              "    </tr>\n",
              "    <tr>\n",
              "      <th>3</th>\n",
              "      <td>DATA SCIENCE SUMMIT EUROPE 2016</td>\n",
              "      <td>185</td>\n",
              "      <td>48</td>\n",
              "    </tr>\n",
              "    <tr>\n",
              "      <th>4</th>\n",
              "      <td>Datascience SS</td>\n",
              "      <td>10</td>\n",
              "      <td>3</td>\n",
              "    </tr>\n",
              "    <tr>\n",
              "      <th>5</th>\n",
              "      <td>Introduction to Data Analytics</td>\n",
              "      <td>14.4K</td>\n",
              "      <td>51</td>\n",
              "    </tr>\n",
              "  </tbody>\n",
              "</table>\n",
              "</div>"
            ],
            "text/plain": [
              "                         Channel_Name Subscribers_Count Video_Count\n",
              "0            Data Science with Partha               48          15 \n",
              "2  ProjectPro - Data Science Projects              400         164 \n",
              "3     DATA SCIENCE SUMMIT EUROPE 2016              185          48 \n",
              "4                      Datascience SS               10           3 \n",
              "5      Introduction to Data Analytics            14.4K          51 "
            ]
          },
          "metadata": {
            "tags": []
          },
          "execution_count": 12
        }
      ]
    },
    {
      "cell_type": "code",
      "metadata": {
        "colab": {
          "base_uri": "https://localhost:8080/"
        },
        "id": "0AKlDxN4yEHY",
        "outputId": "162851be-2002-47d3-f021-72987fabb69e"
      },
      "source": [
        "data.dtypes"
      ],
      "execution_count": 13,
      "outputs": [
        {
          "output_type": "execute_result",
          "data": {
            "text/plain": [
              "Channel_Name         object\n",
              "Subscribers_Count    object\n",
              "Video_Count          object\n",
              "dtype: object"
            ]
          },
          "metadata": {
            "tags": []
          },
          "execution_count": 13
        }
      ]
    },
    {
      "cell_type": "code",
      "metadata": {
        "id": "nR02CJ5PyWxQ"
      },
      "source": [
        "# Changing the symbols into numbers('K' is changed into 1000, and 'M' is changed into 1000000)\n",
        "data['Subscribers_Count']=data['Subscribers_Count'].replace({'K': '*1e3', 'M': '*1e6'}, regex=True).map(pd.eval).astype('int')"
      ],
      "execution_count": 14,
      "outputs": []
    },
    {
      "cell_type": "code",
      "metadata": {
        "colab": {
          "base_uri": "https://localhost:8080/",
          "height": 359
        },
        "id": "InW3LPp-zAv4",
        "outputId": "fde9ba50-8b9a-43d2-913d-c62c3832b2f8"
      },
      "source": [
        "data.sample(10)"
      ],
      "execution_count": 15,
      "outputs": [
        {
          "output_type": "execute_result",
          "data": {
            "text/html": [
              "<div>\n",
              "<style scoped>\n",
              "    .dataframe tbody tr th:only-of-type {\n",
              "        vertical-align: middle;\n",
              "    }\n",
              "\n",
              "    .dataframe tbody tr th {\n",
              "        vertical-align: top;\n",
              "    }\n",
              "\n",
              "    .dataframe thead th {\n",
              "        text-align: right;\n",
              "    }\n",
              "</style>\n",
              "<table border=\"1\" class=\"dataframe\">\n",
              "  <thead>\n",
              "    <tr style=\"text-align: right;\">\n",
              "      <th></th>\n",
              "      <th>Channel_Name</th>\n",
              "      <th>Subscribers_Count</th>\n",
              "      <th>Video_Count</th>\n",
              "    </tr>\n",
              "  </thead>\n",
              "  <tbody>\n",
              "    <tr>\n",
              "      <th>132</th>\n",
              "      <td>codebasics</td>\n",
              "      <td>309000</td>\n",
              "      <td>396</td>\n",
              "    </tr>\n",
              "    <tr>\n",
              "      <th>87</th>\n",
              "      <td>IIR Data Science</td>\n",
              "      <td>45</td>\n",
              "      <td>5</td>\n",
              "    </tr>\n",
              "    <tr>\n",
              "      <th>77</th>\n",
              "      <td>Level Up Your Data Science</td>\n",
              "      <td>12</td>\n",
              "      <td>12</td>\n",
              "    </tr>\n",
              "    <tr>\n",
              "      <th>189</th>\n",
              "      <td>Data Analytics.m</td>\n",
              "      <td>394</td>\n",
              "      <td>21</td>\n",
              "    </tr>\n",
              "    <tr>\n",
              "      <th>43</th>\n",
              "      <td>Connor McAnuff Data Science</td>\n",
              "      <td>34</td>\n",
              "      <td>2</td>\n",
              "    </tr>\n",
              "    <tr>\n",
              "      <th>80</th>\n",
              "      <td>Simplified Data Science</td>\n",
              "      <td>68</td>\n",
              "      <td>2</td>\n",
              "    </tr>\n",
              "    <tr>\n",
              "      <th>165</th>\n",
              "      <td>Data Science Wizards</td>\n",
              "      <td>95</td>\n",
              "      <td>22</td>\n",
              "    </tr>\n",
              "    <tr>\n",
              "      <th>7</th>\n",
              "      <td>Data Science After Dark</td>\n",
              "      <td>19</td>\n",
              "      <td>7</td>\n",
              "    </tr>\n",
              "    <tr>\n",
              "      <th>205</th>\n",
              "      <td>Jeremy Howard</td>\n",
              "      <td>53700</td>\n",
              "      <td>106</td>\n",
              "    </tr>\n",
              "    <tr>\n",
              "      <th>95</th>\n",
              "      <td>Data Science with Dr. Wasim</td>\n",
              "      <td>66</td>\n",
              "      <td>121</td>\n",
              "    </tr>\n",
              "  </tbody>\n",
              "</table>\n",
              "</div>"
            ],
            "text/plain": [
              "                    Channel_Name  Subscribers_Count Video_Count\n",
              "132                   codebasics             309000        396 \n",
              "87              IIR Data Science                 45          5 \n",
              "77    Level Up Your Data Science                 12         12 \n",
              "189             Data Analytics.m                394         21 \n",
              "43   Connor McAnuff Data Science                 34          2 \n",
              "80       Simplified Data Science                 68          2 \n",
              "165         Data Science Wizards                 95         22 \n",
              "7        Data Science After Dark                 19          7 \n",
              "205                Jeremy Howard              53700        106 \n",
              "95   Data Science with Dr. Wasim                 66        121 "
            ]
          },
          "metadata": {
            "tags": []
          },
          "execution_count": 15
        }
      ]
    },
    {
      "cell_type": "code",
      "metadata": {
        "colab": {
          "base_uri": "https://localhost:8080/",
          "height": 514
        },
        "id": "uHRWBoHhlpLU",
        "outputId": "e5e839a9-77c9-4568-dcf8-228c13a59e22"
      },
      "source": [
        "#filtering the top 15 channels based on Subscribers_Count\n",
        "data.nlargest(15,['Subscribers_Count'])"
      ],
      "execution_count": 16,
      "outputs": [
        {
          "output_type": "execute_result",
          "data": {
            "text/html": [
              "<div>\n",
              "<style scoped>\n",
              "    .dataframe tbody tr th:only-of-type {\n",
              "        vertical-align: middle;\n",
              "    }\n",
              "\n",
              "    .dataframe tbody tr th {\n",
              "        vertical-align: top;\n",
              "    }\n",
              "\n",
              "    .dataframe thead th {\n",
              "        text-align: right;\n",
              "    }\n",
              "</style>\n",
              "<table border=\"1\" class=\"dataframe\">\n",
              "  <thead>\n",
              "    <tr style=\"text-align: right;\">\n",
              "      <th></th>\n",
              "      <th>Channel_Name</th>\n",
              "      <th>Subscribers_Count</th>\n",
              "      <th>Video_Count</th>\n",
              "    </tr>\n",
              "  </thead>\n",
              "  <tbody>\n",
              "    <tr>\n",
              "      <th>210</th>\n",
              "      <td>edureka!</td>\n",
              "      <td>2640000</td>\n",
              "      <td>4,257</td>\n",
              "    </tr>\n",
              "    <tr>\n",
              "      <th>213</th>\n",
              "      <td>Simplilearn</td>\n",
              "      <td>1070000</td>\n",
              "      <td>2,696</td>\n",
              "    </tr>\n",
              "    <tr>\n",
              "      <th>209</th>\n",
              "      <td>Joma Tech</td>\n",
              "      <td>1040000</td>\n",
              "      <td>86</td>\n",
              "    </tr>\n",
              "    <tr>\n",
              "      <th>208</th>\n",
              "      <td>Intellipaat</td>\n",
              "      <td>971000</td>\n",
              "      <td>2,062</td>\n",
              "    </tr>\n",
              "    <tr>\n",
              "      <th>202</th>\n",
              "      <td>Siraj Raval</td>\n",
              "      <td>712000</td>\n",
              "      <td>429</td>\n",
              "    </tr>\n",
              "    <tr>\n",
              "      <th>12</th>\n",
              "      <td>StatQuest with Josh Starmer</td>\n",
              "      <td>491000</td>\n",
              "      <td>199</td>\n",
              "    </tr>\n",
              "    <tr>\n",
              "      <th>111</th>\n",
              "      <td>Great Learning</td>\n",
              "      <td>391000</td>\n",
              "      <td>1,298</td>\n",
              "    </tr>\n",
              "    <tr>\n",
              "      <th>49</th>\n",
              "      <td>Krish Naik</td>\n",
              "      <td>366000</td>\n",
              "      <td>1,030</td>\n",
              "    </tr>\n",
              "    <tr>\n",
              "      <th>132</th>\n",
              "      <td>codebasics</td>\n",
              "      <td>309000</td>\n",
              "      <td>396</td>\n",
              "    </tr>\n",
              "    <tr>\n",
              "      <th>147</th>\n",
              "      <td>365 Data Science</td>\n",
              "      <td>180000</td>\n",
              "      <td>190</td>\n",
              "    </tr>\n",
              "    <tr>\n",
              "      <th>13</th>\n",
              "      <td>Data School</td>\n",
              "      <td>173000</td>\n",
              "      <td>100</td>\n",
              "    </tr>\n",
              "    <tr>\n",
              "      <th>14</th>\n",
              "      <td>Data Professor</td>\n",
              "      <td>67900</td>\n",
              "      <td>201</td>\n",
              "    </tr>\n",
              "    <tr>\n",
              "      <th>207</th>\n",
              "      <td>Tina Huang</td>\n",
              "      <td>62500</td>\n",
              "      <td>99</td>\n",
              "    </tr>\n",
              "    <tr>\n",
              "      <th>8</th>\n",
              "      <td>Art of Visualization</td>\n",
              "      <td>58000</td>\n",
              "      <td>253</td>\n",
              "    </tr>\n",
              "    <tr>\n",
              "      <th>205</th>\n",
              "      <td>Jeremy Howard</td>\n",
              "      <td>53700</td>\n",
              "      <td>106</td>\n",
              "    </tr>\n",
              "  </tbody>\n",
              "</table>\n",
              "</div>"
            ],
            "text/plain": [
              "                    Channel_Name  Subscribers_Count Video_Count\n",
              "210                     edureka!            2640000      4,257 \n",
              "213                  Simplilearn            1070000      2,696 \n",
              "209                    Joma Tech            1040000         86 \n",
              "208                  Intellipaat             971000      2,062 \n",
              "202                  Siraj Raval             712000        429 \n",
              "12   StatQuest with Josh Starmer             491000        199 \n",
              "111               Great Learning             391000      1,298 \n",
              "49                    Krish Naik             366000      1,030 \n",
              "132                   codebasics             309000        396 \n",
              "147             365 Data Science             180000        190 \n",
              "13                   Data School             173000        100 \n",
              "14                Data Professor              67900        201 \n",
              "207                   Tina Huang              62500         99 \n",
              "8           Art of Visualization              58000        253 \n",
              "205                Jeremy Howard              53700        106 "
            ]
          },
          "metadata": {
            "tags": []
          },
          "execution_count": 16
        }
      ]
    },
    {
      "cell_type": "code",
      "metadata": {
        "id": "Km-2JSBYlpId"
      },
      "source": [
        "#Views count is taken manually for the top 15 channels\n",
        "views=[215934700,73779851,66827579,47898953,43287178,23873798,25579703,18546773,6774429,8493662,15431915,1411233,1996874,3687810,5683371]"
      ],
      "execution_count": 17,
      "outputs": []
    },
    {
      "cell_type": "code",
      "metadata": {
        "id": "MKMoQRqFlpF5"
      },
      "source": [
        "#Taking Top15 YouTube channels data into a DataFrame\n",
        "data_top15=data.copy()\n",
        "data_top15=data_top15.nlargest(15,['Subscribers_Count'])"
      ],
      "execution_count": 18,
      "outputs": []
    },
    {
      "cell_type": "code",
      "metadata": {
        "colab": {
          "base_uri": "https://localhost:8080/",
          "height": 514
        },
        "id": "xI4ITo8nl--R",
        "outputId": "12f394d0-1494-46b8-bd39-bc1467ff3bfe"
      },
      "source": [
        "#Inserting the Views Count of channels to the Top15 data\n",
        "data_top15['Views_Count']=views\n",
        "data_top15"
      ],
      "execution_count": 19,
      "outputs": [
        {
          "output_type": "execute_result",
          "data": {
            "text/html": [
              "<div>\n",
              "<style scoped>\n",
              "    .dataframe tbody tr th:only-of-type {\n",
              "        vertical-align: middle;\n",
              "    }\n",
              "\n",
              "    .dataframe tbody tr th {\n",
              "        vertical-align: top;\n",
              "    }\n",
              "\n",
              "    .dataframe thead th {\n",
              "        text-align: right;\n",
              "    }\n",
              "</style>\n",
              "<table border=\"1\" class=\"dataframe\">\n",
              "  <thead>\n",
              "    <tr style=\"text-align: right;\">\n",
              "      <th></th>\n",
              "      <th>Channel_Name</th>\n",
              "      <th>Subscribers_Count</th>\n",
              "      <th>Video_Count</th>\n",
              "      <th>Views_Count</th>\n",
              "    </tr>\n",
              "  </thead>\n",
              "  <tbody>\n",
              "    <tr>\n",
              "      <th>210</th>\n",
              "      <td>edureka!</td>\n",
              "      <td>2640000</td>\n",
              "      <td>4,257</td>\n",
              "      <td>215934700</td>\n",
              "    </tr>\n",
              "    <tr>\n",
              "      <th>213</th>\n",
              "      <td>Simplilearn</td>\n",
              "      <td>1070000</td>\n",
              "      <td>2,696</td>\n",
              "      <td>73779851</td>\n",
              "    </tr>\n",
              "    <tr>\n",
              "      <th>209</th>\n",
              "      <td>Joma Tech</td>\n",
              "      <td>1040000</td>\n",
              "      <td>86</td>\n",
              "      <td>66827579</td>\n",
              "    </tr>\n",
              "    <tr>\n",
              "      <th>208</th>\n",
              "      <td>Intellipaat</td>\n",
              "      <td>971000</td>\n",
              "      <td>2,062</td>\n",
              "      <td>47898953</td>\n",
              "    </tr>\n",
              "    <tr>\n",
              "      <th>202</th>\n",
              "      <td>Siraj Raval</td>\n",
              "      <td>712000</td>\n",
              "      <td>429</td>\n",
              "      <td>43287178</td>\n",
              "    </tr>\n",
              "    <tr>\n",
              "      <th>12</th>\n",
              "      <td>StatQuest with Josh Starmer</td>\n",
              "      <td>491000</td>\n",
              "      <td>199</td>\n",
              "      <td>23873798</td>\n",
              "    </tr>\n",
              "    <tr>\n",
              "      <th>111</th>\n",
              "      <td>Great Learning</td>\n",
              "      <td>391000</td>\n",
              "      <td>1,298</td>\n",
              "      <td>25579703</td>\n",
              "    </tr>\n",
              "    <tr>\n",
              "      <th>49</th>\n",
              "      <td>Krish Naik</td>\n",
              "      <td>366000</td>\n",
              "      <td>1,030</td>\n",
              "      <td>18546773</td>\n",
              "    </tr>\n",
              "    <tr>\n",
              "      <th>132</th>\n",
              "      <td>codebasics</td>\n",
              "      <td>309000</td>\n",
              "      <td>396</td>\n",
              "      <td>6774429</td>\n",
              "    </tr>\n",
              "    <tr>\n",
              "      <th>147</th>\n",
              "      <td>365 Data Science</td>\n",
              "      <td>180000</td>\n",
              "      <td>190</td>\n",
              "      <td>8493662</td>\n",
              "    </tr>\n",
              "    <tr>\n",
              "      <th>13</th>\n",
              "      <td>Data School</td>\n",
              "      <td>173000</td>\n",
              "      <td>100</td>\n",
              "      <td>15431915</td>\n",
              "    </tr>\n",
              "    <tr>\n",
              "      <th>14</th>\n",
              "      <td>Data Professor</td>\n",
              "      <td>67900</td>\n",
              "      <td>201</td>\n",
              "      <td>1411233</td>\n",
              "    </tr>\n",
              "    <tr>\n",
              "      <th>207</th>\n",
              "      <td>Tina Huang</td>\n",
              "      <td>62500</td>\n",
              "      <td>99</td>\n",
              "      <td>1996874</td>\n",
              "    </tr>\n",
              "    <tr>\n",
              "      <th>8</th>\n",
              "      <td>Art of Visualization</td>\n",
              "      <td>58000</td>\n",
              "      <td>253</td>\n",
              "      <td>3687810</td>\n",
              "    </tr>\n",
              "    <tr>\n",
              "      <th>205</th>\n",
              "      <td>Jeremy Howard</td>\n",
              "      <td>53700</td>\n",
              "      <td>106</td>\n",
              "      <td>5683371</td>\n",
              "    </tr>\n",
              "  </tbody>\n",
              "</table>\n",
              "</div>"
            ],
            "text/plain": [
              "                    Channel_Name  Subscribers_Count Video_Count  Views_Count\n",
              "210                     edureka!            2640000      4,257     215934700\n",
              "213                  Simplilearn            1070000      2,696      73779851\n",
              "209                    Joma Tech            1040000         86      66827579\n",
              "208                  Intellipaat             971000      2,062      47898953\n",
              "202                  Siraj Raval             712000        429      43287178\n",
              "12   StatQuest with Josh Starmer             491000        199      23873798\n",
              "111               Great Learning             391000      1,298      25579703\n",
              "49                    Krish Naik             366000      1,030      18546773\n",
              "132                   codebasics             309000        396       6774429\n",
              "147             365 Data Science             180000        190       8493662\n",
              "13                   Data School             173000        100      15431915\n",
              "14                Data Professor              67900        201       1411233\n",
              "207                   Tina Huang              62500         99       1996874\n",
              "8           Art of Visualization              58000        253       3687810\n",
              "205                Jeremy Howard              53700        106       5683371"
            ]
          },
          "metadata": {
            "tags": []
          },
          "execution_count": 19
        }
      ]
    },
    {
      "cell_type": "code",
      "metadata": {
        "id": "EMhbBYJcl-70"
      },
      "source": [
        "#Getting the Top15_data to local system\n",
        "data_top15.to_excel('YouTube_Top15.xlsx')"
      ],
      "execution_count": 20,
      "outputs": []
    },
    {
      "cell_type": "code",
      "metadata": {
        "id": "ooygTvFt0SlF"
      },
      "source": [
        "#Getting the Total data to local system\n",
        "data.to_excel('YouTube-Data.xlsx')"
      ],
      "execution_count": 21,
      "outputs": []
    },
    {
      "cell_type": "markdown",
      "metadata": {
        "id": "pULf4s1n3X1K"
      },
      "source": [
        "[Tableau Public](https://public.tableau.com/app/profile/selvan.kumar.m/viz/Top10YoutubeChannelsforDataScience/Sheet1) link for the vizz of Top-10 YouTube channels for Data Science"
      ]
    },
    {
      "cell_type": "code",
      "metadata": {
        "id": "1zNdDFvZt44_"
      },
      "source": [
        ""
      ],
      "execution_count": null,
      "outputs": []
    }
  ]
}